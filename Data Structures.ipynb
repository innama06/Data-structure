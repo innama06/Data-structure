{
 "cells": [
  {
   "cell_type": "code",
   "execution_count": 7,
   "id": "14369bde-527c-48d5-87cd-df1b4558badb",
   "metadata": {},
   "outputs": [],
   "source": [
    "#THEORY BASED QUESTIONS"
   ]
  },
  {
   "cell_type": "code",
   "execution_count": 1,
   "id": "5fc29e31-edc5-4d2d-ac64-b32f040646cd",
   "metadata": {},
   "outputs": [],
   "source": [
    "#Q1 What are data structures, and why are they important?\n",
    "#ANS \n",
    "# Data structures are fundamental ways of organizing and storing data for efficient use within computer programs.\n",
    "#They make it easier for computer to process large,complex sets of information."
   ]
  },
  {
   "cell_type": "code",
   "execution_count": 2,
   "id": "a956d357-1c67-49bb-aabf-c3f63ad94985",
   "metadata": {},
   "outputs": [],
   "source": [
    "# Q2 Explain the difference between mutable and immutable data types with examples ?\n",
    "#ANS\n",
    "# Mutable datatypes are the type which can be edited and can be modified after they are created, while immutable datatypes are the types which can't be edited and modified.\n",
    "#Examples of mutable data types are list ,dictionaries and sets.\n",
    "#Examples pf immutables data types are tuples and strings"
   ]
  },
  {
   "cell_type": "code",
   "execution_count": 3,
   "id": "aec6b793-2e30-4c34-9376-cef6a61d8aa0",
   "metadata": {},
   "outputs": [],
   "source": [
    "# Q3 What are the main differences between lists and tuples in Python?\n",
    "#ANS\n",
    "#Main differences between lists and tuples in python is that lists show mutability while tuples doesn't."
   ]
  },
  {
   "cell_type": "code",
   "execution_count": 4,
   "id": "1bfac207-e532-4b65-af15-79bdec9ac9e4",
   "metadata": {},
   "outputs": [],
   "source": [
    "#Q4 Describe how dictionaries store data?\n",
    "#ANS\n",
    "#Dictionaries stores data in the from of key and value pairs.\n",
    "#as key:value"
   ]
  },
  {
   "cell_type": "code",
   "execution_count": 5,
   "id": "1863d96b-e137-4507-9e50-2decf30457e3",
   "metadata": {},
   "outputs": [],
   "source": [
    "#Q5 Why might you use a set instead of a list in Python?\n",
    "#ANS\n",
    "# One can use a set instead of list in python as Sets are unordered collections of unique elements, while lists are ordered collections that can contain duplicate elements.\n",
    "#SETS isn't subscriptable or sliceable."
   ]
  },
  {
   "cell_type": "code",
   "execution_count": 16,
   "id": "e763418b-0d6f-4a6f-baeb-f7d20d75ab2c",
   "metadata": {},
   "outputs": [],
   "source": [
    "#Q6 What is a string in Python, and how is it different from a list?\n",
    "#ANS\n",
    "#Strings in Python are sequences of characters enclosed in quotes ('' or “”).\n"
   ]
  },
  {
   "cell_type": "code",
   "execution_count": 2,
   "id": "19ed44dc-6c6f-4fd8-b12d-0e9b59e1614f",
   "metadata": {},
   "outputs": [],
   "source": [
    "#Q7 How do tuples ensure data integrity in Python?\n",
    "#ANS\n",
    "#Tuples are immutable to ensure that their contents remain constant throughout their lifecycle, guaranteeing data integrity and reliability."
   ]
  },
  {
   "cell_type": "code",
   "execution_count": 3,
   "id": "49f4d622-c835-48cd-8376-d089af869f2e",
   "metadata": {},
   "outputs": [],
   "source": [
    "#Q8 What is a hash table, and how does it relate to dictionaries in python?\n",
    "#ANS\n",
    "#A hash table is a data structure that stores key-value pairs, using a hash function to compute an index (or \"hash\") for each key."
   ]
  },
  {
   "cell_type": "code",
   "execution_count": 4,
   "id": "78625118-a19c-4f1d-b24c-186b40f45729",
   "metadata": {},
   "outputs": [],
   "source": [
    "#Q9 Can lists contain different data types in python?\n",
    "#ANS\n",
    "#Yes It can."
   ]
  },
  {
   "cell_type": "code",
   "execution_count": 5,
   "id": "0d6242ea-a0e3-449c-882f-c0de49eb0344",
   "metadata": {},
   "outputs": [],
   "source": [
    "#Q10 Explain why strings are immutable in Python?\n",
    "#ANS\n",
    "# Strings are immutable in python for several reasons such as efficiency,thread safety,use as dictionaries keys,avoide unintendee side effects and method chaining."
   ]
  },
  {
   "cell_type": "code",
   "execution_count": 6,
   "id": "aad45fa8-de8a-453a-ab45-0f02c1ec6eaf",
   "metadata": {},
   "outputs": [],
   "source": [
    "#Q11 What advantages do dictionaries offer over lists for certain tasks?\n",
    "#ANS \n",
    "# It is more efficient to use dictionaries for the searching of elements as it can be carried out in a much faster manner. "
   ]
  },
  {
   "cell_type": "code",
   "execution_count": 7,
   "id": "8e063c02-6a08-4009-b5b7-a219ff5391a1",
   "metadata": {},
   "outputs": [],
   "source": [
    "#Q12 Describe a scenario where using a tuple would be preferable over a list?\n",
    "#ANS\n",
    "#Advantages of tuple over list in python are that they can be sorted, iterated and they maintain their order automatically. Such as for adhaar card id ,employee id and so on"
   ]
  },
  {
   "cell_type": "code",
   "execution_count": 8,
   "id": "d671abc4-f9b6-4d03-aef1-638aa7277ce2",
   "metadata": {},
   "outputs": [],
   "source": [
    "#Q13 How do sets handle duplicate values in Python?\n",
    "#ANS\n",
    "#Sets in Python are designed to store only unique elements. When attempting to add a duplicate value to a set, it is automatically ignored, and the set remains unchanged."
   ]
  },
  {
   "cell_type": "code",
   "execution_count": 9,
   "id": "0148dcc5-4195-4385-841a-c100c1a6840e",
   "metadata": {},
   "outputs": [],
   "source": [
    "#Q14 How does the “in” keyword work differently for lists and dictionaries?\n",
    "#ANS\n",
    "#The \"in\" operation for the dictionary tests on keys. The key of the dictionary is a unique value as well as the set, and the execution time is about the same as for sets. On the other hand, dictionary values can be duplicated like a list"
   ]
  },
  {
   "cell_type": "code",
   "execution_count": 10,
   "id": "15fded2c-bee6-4afe-8234-30184a5a8040",
   "metadata": {},
   "outputs": [],
   "source": [
    "#Q15 Can you modify the elements of a tuple? Explain why or why not?\n",
    "#ANS\n",
    "#NO,one cannnot modify elemments of a tuple as tuples are immutable. "
   ]
  },
  {
   "cell_type": "code",
   "execution_count": 12,
   "id": "02072e32-1ddd-47df-aac0-7bcfa473cf25",
   "metadata": {},
   "outputs": [
    {
     "name": "stdout",
     "output_type": "stream",
     "text": [
      "INNAMA\n",
      "92\n",
      "zahra@example.com\n"
     ]
    }
   ],
   "source": [
    "#Q16 What is a nested dictionary, and give an example of its use case?\n",
    "#ANS\n",
    "#A nested dictionary in Python is a dictionary where the values are themselves dictionaries.\n",
    "# A dictionary representing a student's information.\n",
    "student_data = {\n",
    "    \"name\": \"INNAMA\",\n",
    "    \"grades\": {  # Inner dictionary for grades\n",
    "        \"math\": 95,\n",
    "        \"science\": 92,\n",
    "        \"history\": 88 },\n",
    "   \n",
    "    \"contact\": {  # Another inner dictionary for contact details\n",
    "        \"email\": \"zahra@example.com\",\n",
    "        \"phone\": \"123-456-7890\"    }}\n",
    "# Accessing values within the nested dictionary.\n",
    "print(student_data[\"name\"])  \n",
    "print(student_data[\"grades\"][\"science\"])  \n",
    "print(student_data[\"contact\"][\"email\"])"
   ]
  },
  {
   "cell_type": "code",
   "execution_count": 13,
   "id": "1938f281-67c8-4077-bd81-1ed48528243d",
   "metadata": {},
   "outputs": [],
   "source": [
    "#Q17Describe the time complexity of accessing elements in a dictionary?\n",
    "#ANS\n",
    "#Accessing an element in a dictionary typically takes O(1) (constant time) on average. This means the time it takes to retrieve a value using its key doesn't increase significantly as the dictionary size grows. "
   ]
  },
  {
   "cell_type": "code",
   "execution_count": 14,
   "id": "1283de45-baa1-499c-9e1d-95ca74bfe587",
   "metadata": {},
   "outputs": [],
   "source": [
    "#Q18  In what situations are lists preferred over dictionaries?\n",
    "#ANS\n",
    "#Lists are often preferred over dictionaries when the order of elements is crucial, you need to maintain an ordered collection, or when operations like adding, removing, or accessing elements by index are frequent."
   ]
  },
  {
   "cell_type": "code",
   "execution_count": null,
   "id": "9593b9e6-fbf2-47e8-a5d2-1a3b3a2948fc",
   "metadata": {},
   "outputs": [],
   "source": [
    "#Q19 Why are dictionaries considered unordered, and how does that affect data retrieval?\n",
    "#ANS\n",
    "#A dictionary is termed an unordered collection of objects because dictionaries do not maintain any inherent order of the items based on when they were added."
   ]
  },
  {
   "cell_type": "code",
   "execution_count": 15,
   "id": "1230c11e-42d0-4bda-bd96-6c71a6cefbcc",
   "metadata": {},
   "outputs": [],
   "source": [
    "#Q20 Explain the difference between a list and a dictionary in terms of data retrieval.\n",
    "#ANS\n",
    "#lists access elements by their index (position), while dictionaries access them by their unique key."
   ]
  },
  {
   "cell_type": "code",
   "execution_count": 8,
   "id": "7cd9755e-501e-4e99-9d9a-dba94a794d40",
   "metadata": {},
   "outputs": [],
   "source": [
    "#PRACTICAL QUESTIONS"
   ]
  },
  {
   "cell_type": "code",
   "execution_count": 9,
   "id": "bedefa05-11de-45d0-b72d-c4edaea6c41d",
   "metadata": {},
   "outputs": [
    {
     "name": "stdout",
     "output_type": "stream",
     "text": [
      " My name is INNAMA\n"
     ]
    }
   ],
   "source": [
    "#Q1 Write a code to create a string with your name and print it?\n",
    "NAME=\"INNAMA\"\n",
    "print(f\" My name is {NAME}\")"
   ]
  },
  {
   "cell_type": "code",
   "execution_count": 10,
   "id": "7737f53e-7782-4aac-9e78-fa371d2a71fc",
   "metadata": {},
   "outputs": [
    {
     "data": {
      "text/plain": [
       "11"
      ]
     },
     "execution_count": 10,
     "metadata": {},
     "output_type": "execute_result"
    }
   ],
   "source": [
    "#Q2 Write a code to find the length of the string \"Hello World\"?\n",
    "STR =\"Hello World\"\n",
    "len(STR)"
   ]
  },
  {
   "cell_type": "code",
   "execution_count": 17,
   "id": "c034d115-ba25-4836-9ca8-b997c72f405a",
   "metadata": {},
   "outputs": [
    {
     "name": "stdout",
     "output_type": "stream",
     "text": [
      "Pyt\n"
     ]
    }
   ],
   "source": [
    "#Q3 Write a code to slice the first 3 characters from the string \"Python Programming\"?\n",
    "something = \"Python Programming\"\n",
    "sliced_string = something[:3]\n",
    "print(sliced_string)"
   ]
  },
  {
   "cell_type": "code",
   "execution_count": 11,
   "id": "0602cbf4-c92a-4e69-83c6-8571ade802ce",
   "metadata": {},
   "outputs": [
    {
     "data": {
      "text/plain": [
       "'HELLO'"
      ]
     },
     "execution_count": 11,
     "metadata": {},
     "output_type": "execute_result"
    }
   ],
   "source": [
    "#Q4 Write a code to convert the string \"hello\" to uppercase?\n",
    "str=\"hello\"\n",
    "str.upper()"
   ]
  },
  {
   "cell_type": "code",
   "execution_count": 12,
   "id": "b2c9df2c-ec33-4549-8d0f-6eac834461f7",
   "metadata": {},
   "outputs": [
    {
     "data": {
      "text/plain": [
       "'I like orange'"
      ]
     },
     "execution_count": 12,
     "metadata": {},
     "output_type": "execute_result"
    }
   ],
   "source": [
    "#Q5 Write a code to replace the word \"apple\" with \"orange\" in the string \"I like apple\"?\n",
    "str=\"I like apple\"\n",
    "str.replace(\"apple\",\"orange\")"
   ]
  },
  {
   "cell_type": "code",
   "execution_count": 13,
   "id": "ad03daba-5ee4-48c9-a15b-d1f0c84ce48d",
   "metadata": {},
   "outputs": [
    {
     "name": "stdout",
     "output_type": "stream",
     "text": [
      "[1, 2, 3, 4, 5]\n"
     ]
    }
   ],
   "source": [
    "#Q6 Write a code to create a list with numbers 1 to 5 and print it?\n",
    "a= list(range(1,6))\n",
    "print(a)"
   ]
  },
  {
   "cell_type": "code",
   "execution_count": 16,
   "id": "b5cdd857-f866-44c2-82d9-6ff8bf5e69f7",
   "metadata": {},
   "outputs": [
    {
     "name": "stdout",
     "output_type": "stream",
     "text": [
      "[1, 2, 3, 4, 10]\n"
     ]
    }
   ],
   "source": [
    "#Q7 Write a code to append the number 10 to the list [1, 2, 3, 4]?\n",
    "b=list(range(1,5))\n",
    "b.append(10)\n",
    "print(b)"
   ]
  },
  {
   "cell_type": "code",
   "execution_count": 19,
   "id": "1d05ed91-b365-4a9d-86c6-67b73d25ceda",
   "metadata": {},
   "outputs": [
    {
     "name": "stdout",
     "output_type": "stream",
     "text": [
      "[1, 2, 4, 5]\n"
     ]
    }
   ],
   "source": [
    "#Q8 Write a code to remove the number 3 from the list [1, 2, 3, 4, 5]?\n",
    "c=list(range(1,6))\n",
    "c.remove(3)\n",
    "print(c)"
   ]
  },
  {
   "cell_type": "code",
   "execution_count": 26,
   "id": "b98b4f27-5180-4827-84ed-026e309437e8",
   "metadata": {},
   "outputs": [
    {
     "name": "stdout",
     "output_type": "stream",
     "text": [
      "b\n"
     ]
    }
   ],
   "source": [
    "#Q9 Write a code to access the second element in the list ['a', 'b', 'c', 'd']?\n",
    "d = ['a', 'b', 'c', 'd']\n",
    "print(d[1])"
   ]
  },
  {
   "cell_type": "code",
   "execution_count": 29,
   "id": "e704385a-0340-48ad-8da1-bc1e749e490c",
   "metadata": {},
   "outputs": [
    {
     "name": "stdout",
     "output_type": "stream",
     "text": [
      "[50, 40, 30, 20, 10]\n"
     ]
    }
   ],
   "source": [
    "#Q10 Write a code to reverse the list [10, 20, 30, 40, 50]?\n",
    "e=[10, 20, 30, 40, 50]\n",
    "e.reverse()\n",
    "print(e)"
   ]
  },
  {
   "cell_type": "code",
   "execution_count": 127,
   "id": "6bffdd58-ddba-4bb8-b7bd-d3bc0a27aa27",
   "metadata": {},
   "outputs": [
    {
     "name": "stdout",
     "output_type": "stream",
     "text": [
      "(100, 200, 300)\n"
     ]
    }
   ],
   "source": [
    "#Q11 Write a code to create a tuple with the elements 100, 200, 300 and print it?\n",
    "t=(100,200,300,)\n",
    "print(t)"
   ]
  },
  {
   "cell_type": "code",
   "execution_count": 125,
   "id": "2adbbb55-def5-48eb-8358-f1c06168cdc3",
   "metadata": {},
   "outputs": [
    {
     "name": "stdout",
     "output_type": "stream",
     "text": [
      "blue\n"
     ]
    }
   ],
   "source": [
    "#Q12 Write a code to access the second-to-last element of the tuple ('red', 'green', 'blue', 'yellow')?\n",
    "t=(\"red\",\"green\",\"blue\",\"yellow\")\n",
    "print(t[-2])"
   ]
  },
  {
   "cell_type": "code",
   "execution_count": 126,
   "id": "8b1f91be-6051-43b1-8b1f-37d566c5a22f",
   "metadata": {},
   "outputs": [
    {
     "name": "stdout",
     "output_type": "stream",
     "text": [
      "5\n"
     ]
    }
   ],
   "source": [
    "#Q13 Write a code to find the minimum number in the tuple (10, 20, 5, 15).\n",
    "t=(10,20,5,15)\n",
    "print(min(t))"
   ]
  },
  {
   "cell_type": "code",
   "execution_count": 123,
   "id": "e964182b-d56b-4db6-a1f5-842e75120a7f",
   "metadata": {},
   "outputs": [
    {
     "data": {
      "text/plain": [
       "1"
      ]
     },
     "execution_count": 123,
     "metadata": {},
     "output_type": "execute_result"
    }
   ],
   "source": [
    "#Q14 Write a code to find the index of the element \"cat\" in the tuple ('dog', 'cat', 'rabbit').\n",
    "t = ('dog', 'cat', 'rabbit')\n",
    "t.index('cat')"
   ]
  },
  {
   "cell_type": "code",
   "execution_count": 41,
   "id": "0d111ad1-2b25-4bb8-ac09-113d7445cc89",
   "metadata": {},
   "outputs": [
    {
     "data": {
      "text/plain": [
       "True"
      ]
     },
     "execution_count": 41,
     "metadata": {},
     "output_type": "execute_result"
    }
   ],
   "source": [
    "#Q15 Write a code to create a tuple containing three different fruits and check if \"kiwi\" is in it\n",
    "fruits=(\"mango\",\"kiwi\",\"banana\")\n",
    "\"kiwi\" in fruits"
   ]
  },
  {
   "cell_type": "code",
   "execution_count": 122,
   "id": "f0d0dfc7-ad94-4360-af67-e033aa6a1b61",
   "metadata": {},
   "outputs": [
    {
     "name": "stdout",
     "output_type": "stream",
     "text": [
      "{'b', 'a', 'c'}\n"
     ]
    }
   ],
   "source": [
    "#Q16 Write a code to create a set with the elements 'a', 'b', 'c' and print it.\n",
    "s={'a','b','c'}\n",
    "print(s)"
   ]
  },
  {
   "cell_type": "code",
   "execution_count": 121,
   "id": "cf045af7-33e3-41a0-962f-5e2b581c5abe",
   "metadata": {},
   "outputs": [
    {
     "name": "stdout",
     "output_type": "stream",
     "text": [
      "set()\n"
     ]
    }
   ],
   "source": [
    "#Q17 Write a code to clear all elements from the set {1, 2, 3, 4, 5}.\n",
    "s={1, 2, 3, 4, 5}\n",
    "s.clear()\n",
    "print(s)"
   ]
  },
  {
   "cell_type": "code",
   "execution_count": 120,
   "id": "4b0fdbf6-847d-4472-bb3a-a97447cb320e",
   "metadata": {},
   "outputs": [
    {
     "name": "stdout",
     "output_type": "stream",
     "text": [
      "{1, 2, 3}\n"
     ]
    }
   ],
   "source": [
    "#Q18  Write a code to remove the element 4 from the set {1, 2, 3, 4}.\n",
    "s ={1, 2, 3, 4}\n",
    "s.remove(4)\n",
    "print(s)"
   ]
  },
  {
   "cell_type": "code",
   "execution_count": 53,
   "id": "6b56f803-26be-40e8-8fae-3ad1a57ed847",
   "metadata": {},
   "outputs": [
    {
     "name": "stdout",
     "output_type": "stream",
     "text": [
      "{1, 2, 3, 4, 5}\n"
     ]
    }
   ],
   "source": [
    "#Q19 Write a code to find the union of two sets {1, 2, 3} and {3, 4, 5}.\n",
    "set1={1,2,3}\n",
    "set2={3,4,5}\n",
    "union_set = set1|set2\n",
    "print(union_set)"
   ]
  },
  {
   "cell_type": "code",
   "execution_count": 55,
   "id": "1811ddc6-0686-4b1c-b501-aa7f4009b4c8",
   "metadata": {},
   "outputs": [
    {
     "name": "stdout",
     "output_type": "stream",
     "text": [
      "({1, 2, 3}, {2, 3, 4})\n"
     ]
    }
   ],
   "source": [
    "#Q20 Write a code to find the intersection of two sets {1, 2, 3} and {2, 3, 4}.\n",
    "set_a={1,2,3}\n",
    "set_b={2,3,4}\n",
    "intersection_set =(set_a,set_b)\n",
    "print(intersection_set)"
   ]
  },
  {
   "cell_type": "code",
   "execution_count": 65,
   "id": "0aaa7fe3-cf53-4f84-9d8c-b535a9477c24",
   "metadata": {},
   "outputs": [
    {
     "name": "stdout",
     "output_type": "stream",
     "text": [
      "{'Name': '', 'AGE': 23, 'CITY': ''}\n"
     ]
    }
   ],
   "source": [
    "#Q21. Write a code to create a dictionary with the keys \"name\", \"age\", and \"city\", and print it.\n",
    "data={\"Name\":\"\",\n",
    "      \"AGE\":23,\n",
    "      \"CITY\":\"\"}\n",
    "print(data)"
   ]
  },
  {
   "cell_type": "code",
   "execution_count": 70,
   "id": "29e1c466-a9e4-4101-882a-c0c354e0d0f2",
   "metadata": {},
   "outputs": [
    {
     "name": "stdout",
     "output_type": "stream",
     "text": [
      "{'Name': 'John', 'AGE': 25, 'Country': 'USA'}\n"
     ]
    }
   ],
   "source": [
    "#Q22 Write a code to add a new key-value pair \"country\": \"USA\" to the dictionary {'name': 'John', 'age': 25}.\n",
    "data={\"Name\":\"John\",\n",
    "      \"AGE\":25,}\n",
    "data[\"Country\"]=\"USA\"\n",
    "print(data)"
   ]
  },
  {
   "cell_type": "code",
   "execution_count": 76,
   "id": "b1c1eee5-62b5-4586-89af-97e6f17388cb",
   "metadata": {},
   "outputs": [
    {
     "name": "stdout",
     "output_type": "stream",
     "text": [
      "Alice\n"
     ]
    }
   ],
   "source": [
    "#Q23 Write a code to access the value associated with the key \"name\" in the dictionary {'name': 'Alice', 'age': 30}.\n",
    "dict={'name':'Alice','age':30}\n",
    "print(dict['name'])"
   ]
  },
  {
   "cell_type": "code",
   "execution_count": 82,
   "id": "35fbbf98-41ef-4f11-8940-05a35a389fa1",
   "metadata": {},
   "outputs": [
    {
     "name": "stdout",
     "output_type": "stream",
     "text": [
      "{'name': 'Bob', 'city': 'New York'}\n"
     ]
    }
   ],
   "source": [
    "#Q24. Write a code to remove the key \"age\" from the dictionary {'name': 'Bob', 'age': 22, 'city': 'New York'}.\n",
    "dict= {'name': 'Bob', 'age': 22, 'city': 'New York'}\n",
    "del dict ['age']\n",
    "print(dict)"
   ]
  },
  {
   "cell_type": "code",
   "execution_count": 83,
   "id": "ee680129-b3a3-4880-83b7-4c0e76911f21",
   "metadata": {},
   "outputs": [
    {
     "data": {
      "text/plain": [
       "True"
      ]
     },
     "execution_count": 83,
     "metadata": {},
     "output_type": "execute_result"
    }
   ],
   "source": [
    "#Q25. Write a code to check if the key \"city\" exists in the dictionary {'name': 'Alice', 'city': 'Paris'}.\n",
    "data = {'name': 'Alice', 'city': 'Paris'}\n",
    "'city' in data"
   ]
  },
  {
   "cell_type": "code",
   "execution_count": 119,
   "id": "042c7511-1148-4a6f-a4c4-6d060f977673",
   "metadata": {},
   "outputs": [
    {
     "name": "stdout",
     "output_type": "stream",
     "text": [
      "List: [1, 2, 3, 'apple', 'banana']\n",
      "Tuple: (4, 5, 6, 'grape', 'orange')\n",
      "Dictionary: {'name': 'John', 'age': 30, 'city': 'New York'}\n"
     ]
    }
   ],
   "source": [
    "#Q26. Write a code to create a list, a tuple, and a dictionary, and print them all.\n",
    "# Creating a list\n",
    "my_list = [1, 2, 3, \"apple\", \"banana\"]\n",
    "\n",
    "# Creating a tuple\n",
    "my_tuple = (4, 5, 6, \"grape\", \"orange\")\n",
    "\n",
    "# Creating a dictionary\n",
    "my_dict = {\"name\": \"John\", \"age\": 30, \"city\": \"New York\"}\n",
    "\n",
    "# Printing the list\n",
    "print(\"List:\", my_list)\n",
    "\n",
    "# Printing the tuple\n",
    "print(\"Tuple:\", my_tuple)\n",
    "\n",
    "# Printing the dictionary\n",
    "print(\"Dictionary:\", my_dict)"
   ]
  },
  {
   "cell_type": "code",
   "execution_count": 86,
   "id": "25248246-7b12-40fc-aab5-5b7f96c50caa",
   "metadata": {},
   "outputs": [
    {
     "name": "stdout",
     "output_type": "stream",
     "text": [
      "[45, 53, 62, 86, 90]\n"
     ]
    }
   ],
   "source": [
    "#Q27. Write a code to create a list of 5 random numbers between 1 and 100, sort it in ascending order, and print the\n",
    "#result.(replaced).\n",
    "import random\n",
    "random_numbers =[]\n",
    "for _ in range(5):\n",
    "    random_numbers.append(random.randint(1,100))\n",
    "    random_numbers.sort()\n",
    "print(random_numbers)"
   ]
  },
  {
   "cell_type": "code",
   "execution_count": 128,
   "id": "e5c82277-bf42-4183-b28e-b71b1c61a0ff",
   "metadata": {},
   "outputs": [
    {
     "name": "stdout",
     "output_type": "stream",
     "text": [
      "Zahra\n"
     ]
    }
   ],
   "source": [
    "#Q28 Write a code to create a list with strings and print the element at the third index.\n",
    "l=[\"Ajay\",\"Innama\",\"Aalmeen\",\"Zahra\",\"Khadija\"]\n",
    "print(l[3])"
   ]
  },
  {
   "cell_type": "code",
   "execution_count": 96,
   "id": "245064ee-62cf-428c-b83e-af08ae5be9a0",
   "metadata": {},
   "outputs": [
    {
     "name": "stdout",
     "output_type": "stream",
     "text": [
      "({'Name': 'Innama', 'Age': 15}, {'City': 'Lucknow', 'Profession': 'Student'})\n"
     ]
    }
   ],
   "source": [
    "#Q29 Write a code to combine two dictionaries into one and print the result.\n",
    "dict1={'Name':'Innama','Age':15}\n",
    "dict2={'City':'Lucknow','Profession':'Student'}\n",
    "final_dict =dict1,dict2\n",
    "print(final_dict)\n"
   ]
  },
  {
   "cell_type": "code",
   "execution_count": 116,
   "id": "76fc779a-a65a-4ff5-8202-3cb37525d928",
   "metadata": {},
   "outputs": [],
   "source": [
    "del set"
   ]
  },
  {
   "cell_type": "code",
   "execution_count": 117,
   "id": "4ed6a1cc-6b67-4f32-9854-56c1f5f3a58f",
   "metadata": {},
   "outputs": [
    {
     "name": "stdout",
     "output_type": "stream",
     "text": [
      "{'date', 'cherry', 'banana', 'apple'}\n"
     ]
    }
   ],
   "source": [
    "#Q30 Write a code to convert a list of strings into a set.\n",
    "a = [\"apple\", \"banana\", \"cherry\", \"apple\", \"date\"]\n",
    "s = set(a)\n",
    "print(s)"
   ]
  }
 ],
 "metadata": {
  "kernelspec": {
   "display_name": "Python 3 (ipykernel)",
   "language": "python",
   "name": "python3"
  },
  "language_info": {
   "codemirror_mode": {
    "name": "ipython",
    "version": 3
   },
   "file_extension": ".py",
   "mimetype": "text/x-python",
   "name": "python",
   "nbconvert_exporter": "python",
   "pygments_lexer": "ipython3",
   "version": "3.13.3"
  }
 },
 "nbformat": 4,
 "nbformat_minor": 5
}
